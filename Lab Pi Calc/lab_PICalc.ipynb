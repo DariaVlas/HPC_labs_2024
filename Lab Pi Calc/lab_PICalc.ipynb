{
  "nbformat": 4,
  "nbformat_minor": 0,
  "metadata": {
    "colab": {
      "provenance": [],
      "gpuType": "T4"
    },
    "kernelspec": {
      "name": "python3",
      "display_name": "Python 3"
    },
    "language_info": {
      "name": "python"
    },
    "accelerator": "GPU"
  },
  "cells": [
    {
      "cell_type": "code",
      "execution_count": 1,
      "metadata": {
        "id": "xle3Gw3RapUQ"
      },
      "outputs": [],
      "source": [
        "import time\n",
        "from numba import cuda, float32\n",
        "import numpy as np"
      ]
    },
    {
      "cell_type": "code",
      "source": [
        "def cpu_pi(points):\n",
        "  time_start = time.time()\n",
        "  res = 0\n",
        "  for point in points:\n",
        "    if point[0] ** 2 + point[1] ** 2 <= 1:\n",
        "      res += 1\n",
        "  time_end = time.time()\n",
        "  time_final = time_end - time_start\n",
        "\n",
        "  pi_cpu = 4 * res / n\n",
        "\n",
        "  return pi_cpu, time_final"
      ],
      "metadata": {
        "id": "TDPWpqMNaseq"
      },
      "execution_count": 6,
      "outputs": []
    },
    {
      "cell_type": "code",
      "source": [
        "@cuda.jit\n",
        "def cuda_pi(points, count):\n",
        "  index = cuda.blockIdx.x * cuda.blockDim.x + cuda.threadIdx.x\n",
        "\n",
        "  while index < points.shape[0]:\n",
        "      if points[index][0] ** 2 + points[index][1] ** 2 <= 1:\n",
        "        count[index] = 1\n",
        "      else:\n",
        "        count[index] = 0\n",
        "      index += cuda.blockDim.x * cuda.gridDim.x\n"
      ],
      "metadata": {
        "id": "DHxLDtxGauap"
      },
      "execution_count": 7,
      "outputs": []
    },
    {
      "cell_type": "code",
      "source": [
        "def gpu_pi(points, n):\n",
        "  time_start = time.time()\n",
        "\n",
        "  count = np.zeros(1)\n",
        "  points = points.astype(np.float32)\n",
        "  count = count.astype(np.int32)\n",
        "  d_points = cuda.to_device(points)\n",
        "  d_count = cuda.device_array(n, dtype=np.int32)\n",
        "\n",
        "  threads_per_block = 256\n",
        "  blocks_per_grid = (n + (threads_per_block - 1)) // threads_per_block\n",
        "  cuda_pi[blocks_per_grid, threads_per_block](d_points, d_count)\n",
        "\n",
        "  count = d_count.copy_to_host().sum()\n",
        "  pi_gpu = 4.0 * count / n\n",
        "\n",
        "  time_end = time.time()\n",
        "  time_final = time_end - time_start\n",
        "\n",
        "  return pi_gpu, time_final"
      ],
      "metadata": {
        "id": "00w-ZthDawa9"
      },
      "execution_count": 8,
      "outputs": []
    },
    {
      "cell_type": "code",
      "source": [
        "n = 10 ** 4\n",
        "points = np.random.rand(n, 2)\n",
        "device = cuda.get_current_device()\n",
        "pi_gpu, time_gpu = gpu_pi(points, n)\n",
        "pi_cpu, time_cpu = cpu_pi(points)\n",
        "print(f\"Время GPU = {time_gpu}\")\n",
        "print(f\"Время CPU = {time_cpu}\")\n",
        "print(f\"Ускорение = {time_cpu / time_gpu}\")\n",
        "print(f\"GPU: pi = {pi_gpu}\")\n",
        "print(f\"CPU: pi = {pi_cpu}\")"
      ],
      "metadata": {
        "colab": {
          "base_uri": "https://localhost:8080/"
        },
        "id": "tEgdLrHOa2JZ",
        "outputId": "f9f06bb1-b9f1-45d6-cb8a-5c1f30728a1d"
      },
      "execution_count": 30,
      "outputs": [
        {
          "output_type": "stream",
          "name": "stdout",
          "text": [
            "Время GPU = 0.0013608932495117188\n",
            "Время CPU = 0.007158994674682617\n",
            "Ускорение = 5.260511562718991\n",
            "GPU: pi = 3.1332\n",
            "CPU: pi = 3.1332\n"
          ]
        }
      ]
    }
  ]
}